{
 "cells": [
  {
   "cell_type": "code",
   "execution_count": 18,
   "metadata": {},
   "outputs": [
    {
     "name": "stdout",
     "output_type": "stream",
     "text": [
      "        number (x)  hash value (h(x))  result (rho(h(x))) \n",
      "0                2        -1383989899                   31\n",
      "1                1         1743782085                   32\n",
      "2                1         1743782085                   32\n",
      "3                1         1743782085                   32\n",
      "4                1         1743782085                   32\n",
      "5                4        -1212640704                   30\n",
      "6                2        -1383989899                   31\n",
      "7                3         -898499152                   31\n",
      "8                2        -1383989899                   31\n",
      "9                1         1743782085                   32\n",
      "10               1         1743782085                   32\n",
      "11               1         1743782085                   32\n",
      "12               1         1743782085                   32\n",
      "13               3         -898499152                   31\n",
      "14               2        -1383989899                   31\n",
      "15               1         1743782085                   32\n",
      "16               1         1743782085                   32\n",
      "17               2        -1383989899                   31\n",
      "18               5         -800550267                   30\n",
      "19               2        -1383989899                   31\n",
      "20               4        -1212640704                   30\n",
      "21               1         1743782085                   32\n",
      "22               1         1743782085                   32\n",
      "23               1         1743782085                   32\n",
      "24               1         1743782085                   32\n",
      "25               2        -1383989899                   31\n",
      "26               3         -898499152                   31\n",
      "27               2        -1383989899                   31\n",
      "28               3         -898499152                   31\n",
      "29               1         1743782085                   32\n",
      "...            ...                ...                  ...\n",
      "999970           2        -1383989899                   31\n",
      "999971           3         -898499152                   31\n",
      "999972           2        -1383989899                   31\n",
      "999973           1         1743782085                   32\n",
      "999974           1         1743782085                   32\n",
      "999975           1         1743782085                   32\n",
      "999976           1         1743782085                   32\n",
      "999977           6          439971637                   30\n",
      "999978           2        -1383989899                   31\n",
      "999979           4        -1212640704                   30\n",
      "999980           2        -1383989899                   31\n",
      "999981           1         1743782085                   32\n",
      "999982           1         1743782085                   32\n",
      "999983           2        -1383989899                   31\n",
      "999984           3         -898499152                   31\n",
      "999985           1         1743782085                   32\n",
      "999986           1         1743782085                   32\n",
      "999987           1         1743782085                   32\n",
      "999988           1         1743782085                   32\n",
      "999989           2        -1383989899                   31\n",
      "999990           3         -898499152                   31\n",
      "999991           2        -1383989899                   31\n",
      "999992           5         -800550267                   30\n",
      "999993           1         1743782085                   32\n",
      "999994           1         1743782085                   32\n",
      "999995           1         1743782085                   32\n",
      "999996           1         1743782085                   32\n",
      "999997           2        -1383989899                   31\n",
      "999998           4        -1212640704                   30\n",
      "999999           3         -898499152                   31\n",
      "\n",
      "[1000000 rows x 3 columns]\n"
     ]
    },
    {
     "ename": "KeyError",
     "evalue": "'result (rho(h(x)))'",
     "output_type": "error",
     "traceback": [
      "\u001b[0;31m---------------------------------------------------------------------------\u001b[0m",
      "\u001b[0;31mKeyError\u001b[0m                                  Traceback (most recent call last)",
      "\u001b[0;32m//anaconda3/lib/python3.7/site-packages/pandas/core/indexes/base.py\u001b[0m in \u001b[0;36mget_loc\u001b[0;34m(self, key, method, tolerance)\u001b[0m\n\u001b[1;32m   2656\u001b[0m             \u001b[0;32mtry\u001b[0m\u001b[0;34m:\u001b[0m\u001b[0;34m\u001b[0m\u001b[0;34m\u001b[0m\u001b[0m\n\u001b[0;32m-> 2657\u001b[0;31m                 \u001b[0;32mreturn\u001b[0m \u001b[0mself\u001b[0m\u001b[0;34m.\u001b[0m\u001b[0m_engine\u001b[0m\u001b[0;34m.\u001b[0m\u001b[0mget_loc\u001b[0m\u001b[0;34m(\u001b[0m\u001b[0mkey\u001b[0m\u001b[0;34m)\u001b[0m\u001b[0;34m\u001b[0m\u001b[0;34m\u001b[0m\u001b[0m\n\u001b[0m\u001b[1;32m   2658\u001b[0m             \u001b[0;32mexcept\u001b[0m \u001b[0mKeyError\u001b[0m\u001b[0;34m:\u001b[0m\u001b[0;34m\u001b[0m\u001b[0;34m\u001b[0m\u001b[0m\n",
      "\u001b[0;32mpandas/_libs/index.pyx\u001b[0m in \u001b[0;36mpandas._libs.index.IndexEngine.get_loc\u001b[0;34m()\u001b[0m\n",
      "\u001b[0;32mpandas/_libs/index.pyx\u001b[0m in \u001b[0;36mpandas._libs.index.IndexEngine.get_loc\u001b[0;34m()\u001b[0m\n",
      "\u001b[0;32mpandas/_libs/hashtable_class_helper.pxi\u001b[0m in \u001b[0;36mpandas._libs.hashtable.PyObjectHashTable.get_item\u001b[0;34m()\u001b[0m\n",
      "\u001b[0;32mpandas/_libs/hashtable_class_helper.pxi\u001b[0m in \u001b[0;36mpandas._libs.hashtable.PyObjectHashTable.get_item\u001b[0;34m()\u001b[0m\n",
      "\u001b[0;31mKeyError\u001b[0m: 'result (rho(h(x)))'",
      "\nDuring handling of the above exception, another exception occurred:\n",
      "\u001b[0;31mKeyError\u001b[0m                                  Traceback (most recent call last)",
      "\u001b[0;32m<ipython-input-18-a54252425356>\u001b[0m in \u001b[0;36m<module>\u001b[0;34m\u001b[0m\n\u001b[1;32m      9\u001b[0m \u001b[0mprint\u001b[0m\u001b[0;34m(\u001b[0m\u001b[0mdf\u001b[0m\u001b[0;34m)\u001b[0m\u001b[0;34m\u001b[0m\u001b[0;34m\u001b[0m\u001b[0m\n\u001b[1;32m     10\u001b[0m \u001b[0;34m\u001b[0m\u001b[0m\n\u001b[0;32m---> 11\u001b[0;31m \u001b[0msns\u001b[0m\u001b[0;34m.\u001b[0m\u001b[0mdistplot\u001b[0m\u001b[0;34m(\u001b[0m\u001b[0mdf\u001b[0m\u001b[0;34m[\u001b[0m\u001b[0;34m'result (rho(h(x)))'\u001b[0m\u001b[0;34m]\u001b[0m\u001b[0;34m)\u001b[0m\u001b[0;34m\u001b[0m\u001b[0;34m\u001b[0m\u001b[0m\n\u001b[0m\u001b[1;32m     12\u001b[0m \u001b[0mplt\u001b[0m\u001b[0;34m.\u001b[0m\u001b[0mxlim\u001b[0m\u001b[0;34m(\u001b[0m\u001b[0;36m0\u001b[0m\u001b[0;34m,\u001b[0m\u001b[0;36m10\u001b[0m\u001b[0;34m)\u001b[0m\u001b[0;34m\u001b[0m\u001b[0;34m\u001b[0m\u001b[0m\n\u001b[1;32m     13\u001b[0m \u001b[0;34m\u001b[0m\u001b[0m\n",
      "\u001b[0;32m//anaconda3/lib/python3.7/site-packages/pandas/core/frame.py\u001b[0m in \u001b[0;36m__getitem__\u001b[0;34m(self, key)\u001b[0m\n\u001b[1;32m   2925\u001b[0m             \u001b[0;32mif\u001b[0m \u001b[0mself\u001b[0m\u001b[0;34m.\u001b[0m\u001b[0mcolumns\u001b[0m\u001b[0;34m.\u001b[0m\u001b[0mnlevels\u001b[0m \u001b[0;34m>\u001b[0m \u001b[0;36m1\u001b[0m\u001b[0;34m:\u001b[0m\u001b[0;34m\u001b[0m\u001b[0;34m\u001b[0m\u001b[0m\n\u001b[1;32m   2926\u001b[0m                 \u001b[0;32mreturn\u001b[0m \u001b[0mself\u001b[0m\u001b[0;34m.\u001b[0m\u001b[0m_getitem_multilevel\u001b[0m\u001b[0;34m(\u001b[0m\u001b[0mkey\u001b[0m\u001b[0;34m)\u001b[0m\u001b[0;34m\u001b[0m\u001b[0;34m\u001b[0m\u001b[0m\n\u001b[0;32m-> 2927\u001b[0;31m             \u001b[0mindexer\u001b[0m \u001b[0;34m=\u001b[0m \u001b[0mself\u001b[0m\u001b[0;34m.\u001b[0m\u001b[0mcolumns\u001b[0m\u001b[0;34m.\u001b[0m\u001b[0mget_loc\u001b[0m\u001b[0;34m(\u001b[0m\u001b[0mkey\u001b[0m\u001b[0;34m)\u001b[0m\u001b[0;34m\u001b[0m\u001b[0;34m\u001b[0m\u001b[0m\n\u001b[0m\u001b[1;32m   2928\u001b[0m             \u001b[0;32mif\u001b[0m \u001b[0mis_integer\u001b[0m\u001b[0;34m(\u001b[0m\u001b[0mindexer\u001b[0m\u001b[0;34m)\u001b[0m\u001b[0;34m:\u001b[0m\u001b[0;34m\u001b[0m\u001b[0;34m\u001b[0m\u001b[0m\n\u001b[1;32m   2929\u001b[0m                 \u001b[0mindexer\u001b[0m \u001b[0;34m=\u001b[0m \u001b[0;34m[\u001b[0m\u001b[0mindexer\u001b[0m\u001b[0;34m]\u001b[0m\u001b[0;34m\u001b[0m\u001b[0;34m\u001b[0m\u001b[0m\n",
      "\u001b[0;32m//anaconda3/lib/python3.7/site-packages/pandas/core/indexes/base.py\u001b[0m in \u001b[0;36mget_loc\u001b[0;34m(self, key, method, tolerance)\u001b[0m\n\u001b[1;32m   2657\u001b[0m                 \u001b[0;32mreturn\u001b[0m \u001b[0mself\u001b[0m\u001b[0;34m.\u001b[0m\u001b[0m_engine\u001b[0m\u001b[0;34m.\u001b[0m\u001b[0mget_loc\u001b[0m\u001b[0;34m(\u001b[0m\u001b[0mkey\u001b[0m\u001b[0;34m)\u001b[0m\u001b[0;34m\u001b[0m\u001b[0;34m\u001b[0m\u001b[0m\n\u001b[1;32m   2658\u001b[0m             \u001b[0;32mexcept\u001b[0m \u001b[0mKeyError\u001b[0m\u001b[0;34m:\u001b[0m\u001b[0;34m\u001b[0m\u001b[0;34m\u001b[0m\u001b[0m\n\u001b[0;32m-> 2659\u001b[0;31m                 \u001b[0;32mreturn\u001b[0m \u001b[0mself\u001b[0m\u001b[0;34m.\u001b[0m\u001b[0m_engine\u001b[0m\u001b[0;34m.\u001b[0m\u001b[0mget_loc\u001b[0m\u001b[0;34m(\u001b[0m\u001b[0mself\u001b[0m\u001b[0;34m.\u001b[0m\u001b[0m_maybe_cast_indexer\u001b[0m\u001b[0;34m(\u001b[0m\u001b[0mkey\u001b[0m\u001b[0;34m)\u001b[0m\u001b[0;34m)\u001b[0m\u001b[0;34m\u001b[0m\u001b[0;34m\u001b[0m\u001b[0m\n\u001b[0m\u001b[1;32m   2660\u001b[0m         \u001b[0mindexer\u001b[0m \u001b[0;34m=\u001b[0m \u001b[0mself\u001b[0m\u001b[0;34m.\u001b[0m\u001b[0mget_indexer\u001b[0m\u001b[0;34m(\u001b[0m\u001b[0;34m[\u001b[0m\u001b[0mkey\u001b[0m\u001b[0;34m]\u001b[0m\u001b[0;34m,\u001b[0m \u001b[0mmethod\u001b[0m\u001b[0;34m=\u001b[0m\u001b[0mmethod\u001b[0m\u001b[0;34m,\u001b[0m \u001b[0mtolerance\u001b[0m\u001b[0;34m=\u001b[0m\u001b[0mtolerance\u001b[0m\u001b[0;34m)\u001b[0m\u001b[0;34m\u001b[0m\u001b[0;34m\u001b[0m\u001b[0m\n\u001b[1;32m   2661\u001b[0m         \u001b[0;32mif\u001b[0m \u001b[0mindexer\u001b[0m\u001b[0;34m.\u001b[0m\u001b[0mndim\u001b[0m \u001b[0;34m>\u001b[0m \u001b[0;36m1\u001b[0m \u001b[0;32mor\u001b[0m \u001b[0mindexer\u001b[0m\u001b[0;34m.\u001b[0m\u001b[0msize\u001b[0m \u001b[0;34m>\u001b[0m \u001b[0;36m1\u001b[0m\u001b[0;34m:\u001b[0m\u001b[0;34m\u001b[0m\u001b[0;34m\u001b[0m\u001b[0m\n",
      "\u001b[0;32mpandas/_libs/index.pyx\u001b[0m in \u001b[0;36mpandas._libs.index.IndexEngine.get_loc\u001b[0;34m()\u001b[0m\n",
      "\u001b[0;32mpandas/_libs/index.pyx\u001b[0m in \u001b[0;36mpandas._libs.index.IndexEngine.get_loc\u001b[0;34m()\u001b[0m\n",
      "\u001b[0;32mpandas/_libs/hashtable_class_helper.pxi\u001b[0m in \u001b[0;36mpandas._libs.hashtable.PyObjectHashTable.get_item\u001b[0;34m()\u001b[0m\n",
      "\u001b[0;32mpandas/_libs/hashtable_class_helper.pxi\u001b[0m in \u001b[0;36mpandas._libs.hashtable.PyObjectHashTable.get_item\u001b[0;34m()\u001b[0m\n",
      "\u001b[0;31mKeyError\u001b[0m: 'result (rho(h(x)))'"
     ]
    }
   ],
   "source": [
    "import numpy as np \n",
    "import matplotlib.pyplot as plt\n",
    "import seaborn as sns\n",
    "#randomHashValues = np.linspace(1,1000000,1000000)\n",
    "import pandas as pd \n",
    "\n",
    "df = pd.read_csv(\"plot.csv\") \n",
    "#df.head(5); \n",
    "print(df)\n",
    "\n",
    "sns.distplot(df['result (rho(h(x)))'])\n",
    "plt.xlim(0,10)\n",
    "\n"
   ]
  },
  {
   "cell_type": "code",
   "execution_count": 19,
   "metadata": {},
   "outputs": [
    {
     "name": "stdout",
     "output_type": "stream",
     "text": [
      "         number  iPosition\n",
      "0             1          2\n",
      "1             2          1\n",
      "2             3          1\n",
      "3             4          1\n",
      "4             5          1\n",
      "5             6          4\n",
      "6             7          2\n",
      "7             8          3\n",
      "8             9          2\n",
      "9            10          1\n",
      "10           11          1\n",
      "11           12          1\n",
      "12           13          1\n",
      "13           14          3\n",
      "14           15          2\n",
      "15           16          1\n",
      "16           17          1\n",
      "17           18          2\n",
      "18           19          5\n",
      "19           20          2\n",
      "20           21          4\n",
      "21           22          1\n",
      "22           23          1\n",
      "23           24          1\n",
      "24           25          1\n",
      "25           26          2\n",
      "26           27          3\n",
      "27           28          2\n",
      "28           29          3\n",
      "29           30          1\n",
      "...         ...        ...\n",
      "999970   999971          2\n",
      "999971   999972          3\n",
      "999972   999973          2\n",
      "999973   999974          1\n",
      "999974   999975          1\n",
      "999975   999976          1\n",
      "999976   999977          1\n",
      "999977   999978          6\n",
      "999978   999979          2\n",
      "999979   999980          4\n",
      "999980   999981          2\n",
      "999981   999982          1\n",
      "999982   999983          1\n",
      "999983   999984          2\n",
      "999984   999985          3\n",
      "999985   999986          1\n",
      "999986   999987          1\n",
      "999987   999988          1\n",
      "999988   999989          1\n",
      "999989   999990          2\n",
      "999990   999991          3\n",
      "999991   999992          2\n",
      "999992   999993          5\n",
      "999993   999994          1\n",
      "999994   999995          1\n",
      "999995   999996          1\n",
      "999996   999997          1\n",
      "999997   999998          2\n",
      "999998   999999          4\n",
      "999999  1000000          3\n",
      "\n",
      "[1000000 rows x 2 columns]\n",
      "Index(['number', 'iPosition'], dtype='object')\n"
     ]
    },
    {
     "data": {
      "text/plain": [
       "(0, 10)"
      ]
     },
     "execution_count": 19,
     "metadata": {},
     "output_type": "execute_result"
    },
    {
     "data": {
      "image/png": "[encoded data removed]",
      "text/plain": [
       "<Figure size 432x288 with 1 Axes>"
      ]
     },
     "metadata": {
      "needs_background": "light"
     },
     "output_type": "display_data"
    }
   ],
   "source": [
    "import numpy as np \n",
    "import matplotlib.pyplot as plt\n",
    "import seaborn as sns\n",
    "#randomHashValues = np.linspace(1,1000000,1000000)\n",
    "import pandas as pd \n",
    "%matplotlib inline\n",
    "\n",
    "df = pd.read_csv(\"resultsDistribution.csv\", names=[\"number\", \"iPosition\"]) \n",
    " \n",
    "print(df)\n",
    "print(df.columns)\n",
    "\n",
    "\n",
    "sns.distplot(df['iPosition'])\n",
    "plt.xlim(0,10)"
   ]
  },
  {
   "cell_type": "code",
   "execution_count": null,
   "metadata": {},
   "outputs": [],
   "source": []
  },
  {
   "cell_type": "code",
   "execution_count": null,
   "metadata": {},
   "outputs": [],
   "source": []
  },
  {
   "cell_type": "code",
   "execution_count": null,
   "metadata": {},
   "outputs": [],
   "source": []
  }
 ],
 "metadata": {
  "kernelspec": {
   "display_name": "Python 3",
   "language": "python",
   "name": "python3"
  },
  "language_info": {
   "codemirror_mode": {
    "name": "ipython",
    "version": 3
   },
   "file_extension": ".py",
   "mimetype": "text/x-python",
   "name": "python",
   "nbconvert_exporter": "python",
   "pygments_lexer": "ipython3",
   "version": "3.7.3"
  }
 },
 "nbformat": 4,
 "nbformat_minor": 4
}
